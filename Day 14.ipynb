{
 "cells": [
  {
   "cell_type": "markdown",
   "metadata": {},
   "source": [
    "# Day 14\n",
    "\n",
    "[Reindeer Olympics](https://adventofcode.com/2015/day/14)"
   ]
  },
  {
   "cell_type": "markdown",
   "metadata": {},
   "source": [
    "## Part 1\n",
    "\n",
    "This year is the Reindeer Olympics! Reindeer can fly at high speeds, but must rest occasionally to recover their energy. Santa would like to know which of his reindeer is fastest, and so he has them race.\n",
    "\n",
    "Reindeer can only either be flying (always at their top speed) or resting (not moving at all), and always spend whole seconds in either state.\n",
    "\n",
    "For example, suppose you have the following Reindeer:\n",
    "\n",
    "    Comet can fly 14 km/s for 10 seconds, but then must rest for 127 seconds.\n",
    "    Dancer can fly 16 km/s for 11 seconds, but then must rest for 162 seconds.\n",
    "\n",
    "After one second, Comet has gone 14 km, while Dancer has gone 16 km. After ten seconds, Comet has gone 140 km, while Dancer has gone 160 km. On the eleventh second, Comet begins resting (staying at 140 km), and Dancer continues on for a total distance of 176 km. On the 12th second, both reindeer are resting. They continue to rest until the 138th second, when Comet flies for another ten seconds. On the 174th second, Dancer flies for another 11 seconds.\n",
    "\n",
    "In this example, after the 1000th second, both reindeer are resting, and Comet is in the lead at 1120 km (poor Dancer has only gotten 1056 km by that point). So, in this situation, Comet would win (if the race ended at 1000 seconds).\n",
    "\n",
    "Given the descriptions of each reindeer (in your puzzle input), after exactly 2503 seconds, what distance has the winning reindeer traveled?"
   ]
  },
  {
   "cell_type": "code",
   "execution_count": 2,
   "metadata": {},
   "outputs": [],
   "source": [
    "def distance(time, velocity, duration, rest):\n",
    "    '''\n",
    "    Return the distance a reindeer can cover\n",
    "    \n",
    "    Arguments:\n",
    "        time - the time the reindeer will fly\n",
    "        velocity - velocity when flying\n",
    "        duration - time reindeer flies before resting\n",
    "        rest - time it takes reindeer to rest\n",
    "    '''\n",
    "    cycle = duration + rest\n",
    "    cycle_count = time // cycle\n",
    "    remaining_time = time % cycle\n",
    "    return velocity * (cycle_count * duration + min(remaining_time, duration))\n",
    "\n",
    "assert distance(1000, 14, 10, 127) == 1120\n",
    "assert distance(1000, 16, 11, 162) == 1056\n",
    "        "
   ]
  },
  {
   "cell_type": "code",
   "execution_count": 17,
   "metadata": {},
   "outputs": [
    {
     "name": "stdout",
     "output_type": "stream",
     "text": [
      "Vixen      2,660\n",
      "Rudolph    2,637\n",
      "Donner     2,565\n",
      "Blitzen    2,565\n",
      "Comet      2,639\n",
      "Cupid      2,550\n",
      "Dasher     2,590\n",
      "Dancer     2,292\n",
      "Prancer    2,550\n",
      "Longest distance: 2660\n"
     ]
    }
   ],
   "source": [
    "import re\n",
    "stats = []\n",
    "time = 2503\n",
    "with open('input/day 14.txt') as f:\n",
    "    for line in f:\n",
    "        name, velo, duration, rest = re.findall(r'(\\w*) can fly (\\d*) km/s for (\\d*) seconds, but then must rest for (\\d*) seconds.', line)[0]\n",
    "        stats.append({\n",
    "            'name': name,\n",
    "            'velocity': int(velo),\n",
    "            'duration': int(duration),\n",
    "            'rest': int(rest),\n",
    "            'distance': distance(time, int(velo), int(duration), int(rest))})\n",
    "for reindeer in stats:\n",
    "    print('{name:10} {distance:5,}'.format(**reindeer))\n",
    "print('Longest distance:', max(r['distance'] for r in stats))"
   ]
  },
  {
   "cell_type": "markdown",
   "metadata": {},
   "source": [
    "## Part 2\n",
    "\n",
    "Seeing how reindeer move in bursts, Santa decides he's not pleased with the old scoring system.\n",
    "\n",
    "Instead, at the end of each second, he awards one point to the reindeer currently in the lead. (If there are multiple reindeer tied for the lead, they each get one point.) He keeps the traditional 2503 second time limit, of course, as doing otherwise would be entirely ridiculous.\n",
    "\n",
    "Given the example reindeer from above, after the first second, Dancer is in the lead and gets one point. He stays in the lead until several seconds into Comet's second burst: after the 140th second, Comet pulls into the lead and gets his first point. Of course, since Dancer had been in the lead for the 139 seconds before that, he has accumulated 139 points by the 140th second.\n",
    "\n",
    "After the 1000th second, Dancer has accumulated 689 points, while poor Comet, our old champion, only has 312. So, with the new scoring system, Dancer would win (if the race ended at 1000 seconds).\n",
    "\n",
    "Again given the descriptions of each reindeer (in your puzzle input), after exactly 2503 seconds, how many points does the winning reindeer have?"
   ]
  },
  {
   "cell_type": "code",
   "execution_count": 23,
   "metadata": {},
   "outputs": [
    {
     "name": "stdout",
     "output_type": "stream",
     "text": [
      "{'Vixen': 469, 'Rudolph': 188, 'Donner': 589, 'Blitzen': 1256, 'Comet': 158, 'Cupid': 307, 'Dasher': 9, 'Dancer': 0, 'Prancer': 504}\n"
     ]
    }
   ],
   "source": [
    "points = {r['name']: 0 for r in stats}\n",
    "for t in range(2503):\n",
    "    dist = {r['name']: distance(t+1, r['velocity'], r['duration'], r['rest']) for r in stats}\n",
    "    winners = [r['name'] for r in stats if dist[r['name']] == max(dist.values())]\n",
    "    for name in winners:\n",
    "        points[name] += 1\n",
    "print(points)"
   ]
  },
  {
   "cell_type": "code",
   "execution_count": null,
   "metadata": {},
   "outputs": [],
   "source": []
  }
 ],
 "metadata": {
  "kernelspec": {
   "display_name": "Python 3",
   "language": "python",
   "name": "python3"
  },
  "language_info": {
   "codemirror_mode": {
    "name": "ipython",
    "version": 3
   },
   "file_extension": ".py",
   "mimetype": "text/x-python",
   "name": "python",
   "nbconvert_exporter": "python",
   "pygments_lexer": "ipython3",
   "version": "3.9.0"
  }
 },
 "nbformat": 4,
 "nbformat_minor": 4
}
