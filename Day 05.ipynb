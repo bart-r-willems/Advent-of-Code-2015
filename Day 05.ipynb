{
 "cells": [
  {
   "cell_type": "markdown",
   "metadata": {},
   "source": [
    "# Day 5\n",
    "\n",
    "[Doesn't He Have Intern-Elves For This?](https://adventofcode.com/2015/day/5)\n",
    "\n",
    "## Part 1\n",
    "\n",
    "Santa needs help figuring out which strings in his text file are naughty or nice.\n",
    "\n",
    "A nice string is one with all of the following properties:\n",
    "\n",
    "    It contains at least three vowels (aeiou only), like aei, xazegov, or aeiouaeiouaeiou.\n",
    "    It contains at least one letter that appears twice in a row, like xx, abcdde (dd), or aabbccdd (aa, bb, cc, or dd).\n",
    "    It does not contain the strings ab, cd, pq, or xy, even if they are part of one of the other requirements.\n",
    "\n",
    "For example:\n",
    "\n",
    "    ugknbfddgicrmopn is nice because it has at least three vowels (u...i...o...), a double letter (...dd...), and none of the disallowed substrings.\n",
    "    aaa is nice because it has at least three vowels and a double letter, even though the letters used by different rules overlap.\n",
    "    jchzalrnumimnmhp is naughty because it has no double letter.\n",
    "    haegwjzuvuyypxyu is naughty because it contains the string xy.\n",
    "    dvszwmarrgswjxmb is naughty because it contains only one vowel.\n",
    "\n",
    "How many strings are nice?"
   ]
  },
  {
   "cell_type": "code",
   "execution_count": 1,
   "metadata": {},
   "outputs": [],
   "source": [
    "import re\n",
    "\n",
    "def naughty_or_nice(text):\n",
    "    if re.search('(ab|cd|pq|xy)', text):\n",
    "        return 'naughty'\n",
    "    if len(re.sub('[^aeiou]', '', text)) < 3:\n",
    "        return 'naughty'\n",
    "    if not re.search('(.)\\\\1', text):\n",
    "        return 'naughty'\n",
    "    return 'nice'\n",
    "\n",
    "assert naughty_or_nice('ugknbfddgicrmopn') == 'nice'\n",
    "assert naughty_or_nice('aaa') == 'nice'\n",
    "assert naughty_or_nice('jchzalrnumimnmhp') == 'naughty'\n",
    "assert naughty_or_nice('haegwjzuvuyypxyu') == 'naughty'\n",
    "assert naughty_or_nice('dvszwmarrgswjxmb') == 'naughty'\n"
   ]
  },
  {
   "cell_type": "code",
   "execution_count": 2,
   "metadata": {},
   "outputs": [
    {
     "name": "stdout",
     "output_type": "stream",
     "text": [
      "Number of \"nice\" strings:\n",
      "258\n"
     ]
    }
   ],
   "source": [
    "the_list = [naughty_or_nice(s.strip()) for s in open('input/day 05.txt')]\n",
    "print('Number of \"nice\" strings:')\n",
    "print(the_list.count('nice'))"
   ]
  },
  {
   "cell_type": "markdown",
   "metadata": {},
   "source": [
    "## Part 2\n",
    "\n",
    "Realizing the error of his ways, Santa has switched to a better model of determining whether a string is naughty or nice. None of the old rules apply, as they are all clearly ridiculous.\n",
    "\n",
    "Now, a nice string is one with all of the following properties:\n",
    "\n",
    "    It contains a pair of any two letters that appears at least twice in the string without overlapping, like xyxy (xy) or aabcdefgaa (aa), but not like aaa (aa, but it overlaps).\n",
    "    It contains at least one letter which repeats with exactly one letter between them, like xyx, abcdefeghi (efe), or even aaa.\n",
    "\n",
    "For example:\n",
    "\n",
    "    qjhvhtzxzqqjkmpb is nice because is has a pair that appears twice (qj) and a letter that repeats with exactly one letter between them (zxz).\n",
    "    xxyxx is nice because it has a pair that appears twice and a letter that repeats with one between, even though the letters used by each rule overlap.\n",
    "    uurcxstgmygtbstg is naughty because it has a pair (tg) but no repeat with a single letter between them.\n",
    "    ieodomkazucvgmuy is naughty because it has a repeating letter with one between (odo), but no pair that appears twice.\n"
   ]
  },
  {
   "cell_type": "code",
   "execution_count": 29,
   "metadata": {},
   "outputs": [],
   "source": [
    "def naughty_or_nice2(text):\n",
    "    # search for repearing word pair\n",
    "    if not re.search(r'(\\w{2}).*?(\\1)', text):\n",
    "        return 'naughty'\n",
    "    if not re.search(r'(\\w).(\\1)', text):\n",
    "        return 'naughty'\n",
    "    return 'nice'\n",
    "\n",
    "assert naughty_or_nice2('qjhvhtzxzqqjkmpb') == 'nice'\n",
    "assert naughty_or_nice2('xxyxx') == 'nice'\n",
    "assert naughty_or_nice2('uurcxstgmygtbstg') == 'naughty'"
   ]
  },
  {
   "cell_type": "code",
   "execution_count": 30,
   "metadata": {},
   "outputs": [
    {
     "name": "stdout",
     "output_type": "stream",
     "text": [
      "Number of \"nice\" strings:\n",
      "53\n"
     ]
    }
   ],
   "source": [
    "the_list = [naughty_or_nice2(s.strip()) for s in open('input/day 05.txt')]\n",
    "print('Number of \"nice\" strings:')\n",
    "print(the_list.count('nice'))"
   ]
  },
  {
   "cell_type": "code",
   "execution_count": null,
   "metadata": {},
   "outputs": [],
   "source": []
  }
 ],
 "metadata": {
  "kernelspec": {
   "display_name": "Python 3",
   "language": "python",
   "name": "python3"
  },
  "language_info": {
   "codemirror_mode": {
    "name": "ipython",
    "version": 3
   },
   "file_extension": ".py",
   "mimetype": "text/x-python",
   "name": "python",
   "nbconvert_exporter": "python",
   "pygments_lexer": "ipython3",
   "version": "3.9.0"
  }
 },
 "nbformat": 4,
 "nbformat_minor": 4
}
