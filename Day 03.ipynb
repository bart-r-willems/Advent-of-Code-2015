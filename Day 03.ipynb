{
 "cells": [
  {
   "cell_type": "markdown",
   "metadata": {},
   "source": [
    "# Day 3\n",
    "\n",
    "[Perfectly Spherical Houses in a Vacuum ](https://adventofcode.com/2015/day/3)\n",
    "\n",
    "## Part 1\n",
    "\n",
    "Santa is delivering presents to an infinite two-dimensional grid of houses.\n",
    "\n",
    "He begins by delivering a present to the house at his starting location, and then an elf at the North Pole calls him via radio and tells him where to move next. Moves are always exactly one house to the north (^), south (v), east (>), or west (<). After each move, he delivers another present to the house at his new location.\n",
    "\n",
    "However, the elf back at the north pole has had a little too much eggnog, and so his directions are a little off, and Santa ends up visiting some houses more than once. How many houses receive at least one present?\n",
    "\n",
    "For example:\n",
    "\n",
    "    > delivers presents to 2 houses: one at the starting location, and one to the east.\n",
    "    ^>v< delivers presents to 4 houses in a square, including twice to the house at his starting/ending location.\n",
    "    ^v^v^v^v^v delivers a bunch of presents to some very lucky children at only 2 houses.\n"
   ]
  },
  {
   "cell_type": "code",
   "execution_count": 5,
   "metadata": {},
   "outputs": [],
   "source": [
    "instructions = open('input/day 03.txt').read().replace('\\n', '')\n",
    "command_set = '<>^v'\n",
    "command_x = [-1, 1, 0, 0]\n",
    "command_y = [0, 0, 1, -1]"
   ]
  },
  {
   "cell_type": "code",
   "execution_count": 7,
   "metadata": {},
   "outputs": [
    {
     "name": "stdout",
     "output_type": "stream",
     "text": [
      "Number of houses visited:\n",
      "2565\n"
     ]
    }
   ],
   "source": [
    "x, y = 0, 0\n",
    "visited = { (0, 0) }\n",
    "for command in instructions:\n",
    "    cmd_no = command_set.find(command)\n",
    "    x += command_x[cmd_no]\n",
    "    y += command_y[cmd_no]\n",
    "    visited.add((x, y))\n",
    "print('Number of houses visited:')\n",
    "print(len(visited))\n"
   ]
  },
  {
   "cell_type": "markdown",
   "metadata": {},
   "source": [
    "## Part 2\n",
    "\n",
    "The next year, to speed up the process, Santa creates a robot version of himself, Robo-Santa, to deliver presents with him.\n",
    "\n",
    "Santa and Robo-Santa start at the same location (delivering two presents to the same starting house), then take turns moving based on instructions from the elf, who is eggnoggedly reading from the same script as the previous year.\n",
    "\n",
    "This year, how many houses receive at least one present?\n",
    "\n",
    "For example:\n",
    "\n",
    "    ^v delivers presents to 3 houses, because Santa goes north, and then Robo-Santa goes south.\n",
    "    ^>v< now delivers presents to 3 houses, and Santa and Robo-Santa end up back where they started.\n",
    "    ^v^v^v^v^v now delivers presents to 11 houses, with Santa going one direction and Robo-Santa going the other."
   ]
  },
  {
   "cell_type": "code",
   "execution_count": 9,
   "metadata": {},
   "outputs": [
    {
     "name": "stdout",
     "output_type": "stream",
     "text": [
      "Houses visited:\n",
      "2639\n"
     ]
    }
   ],
   "source": [
    "from collections import namedtuple\n",
    "\n",
    "House = namedtuple('House', 'x y')\n",
    "\n",
    "robot = House(0, 0)\n",
    "santa = House(0, 0)\n",
    "visited = { House(0, 0) }\n",
    "for i, cmd in enumerate(instructions):\n",
    "    c = command_set.find(cmd)\n",
    "    if i % 2 == 0:\n",
    "        # santa moves\n",
    "        santa = House(santa.x + command_x[c], santa.y + command_y[c])\n",
    "        visited.add(santa)\n",
    "    else:\n",
    "        # robot moves\n",
    "        robot = House(robot.x + command_x[c], robot.y + command_y[c])\n",
    "        visited.add(robot)\n",
    "print('Houses visited:')\n",
    "print(len(visited))"
   ]
  },
  {
   "cell_type": "code",
   "execution_count": null,
   "metadata": {},
   "outputs": [],
   "source": []
  }
 ],
 "metadata": {
  "kernelspec": {
   "display_name": "Python 3",
   "language": "python",
   "name": "python3"
  },
  "language_info": {
   "codemirror_mode": {
    "name": "ipython",
    "version": 3
   },
   "file_extension": ".py",
   "mimetype": "text/x-python",
   "name": "python",
   "nbconvert_exporter": "python",
   "pygments_lexer": "ipython3",
   "version": "3.9.0"
  }
 },
 "nbformat": 4,
 "nbformat_minor": 4
}
