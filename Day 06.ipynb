{
 "cells": [
  {
   "cell_type": "markdown",
   "metadata": {},
   "source": [
    "# Day 6\n",
    "\n",
    "[Probably a Fire Hazard](https://adventofcode.com/2015/day/6)\n",
    "\n",
    "Because your neighbors keep defeating you in the holiday house decorating contest year after year, you've decided to deploy one million lights in a 1000x1000 grid.\n",
    "\n",
    "Furthermore, because you've been especially nice this year, Santa has mailed you instructions on how to display the ideal lighting configuration.\n",
    "\n",
    "Lights in your grid are numbered from 0 to 999 in each direction; the lights at each corner are at 0,0, 0,999, 999,999, and 999,0. The instructions include whether to turn on, turn off, or toggle various inclusive ranges given as coordinate pairs. Each coordinate pair represents opposite corners of a rectangle, inclusive; a coordinate pair like 0,0 through 2,2 therefore refers to 9 lights in a 3x3 square. The lights all start turned off.\n",
    "\n",
    "To defeat your neighbors this year, all you have to do is set up your lights by doing the instructions Santa sent you in order.\n",
    "\n",
    "For example:\n",
    "\n",
    "    turn on 0,0 through 999,999 would turn on (or leave on) every light.\n",
    "    toggle 0,0 through 999,0 would toggle the first line of 1000 lights, turning off the ones that were on, and turning on the ones that were off.\n",
    "    turn off 499,499 through 500,500 would turn off (or leave off) the middle four lights.\n",
    "\n",
    "After following the instructions, how many lights are lit?"
   ]
  },
  {
   "cell_type": "code",
   "execution_count": 7,
   "metadata": {},
   "outputs": [],
   "source": [
    "import re\n",
    "import matplotlib.pyplot as plt\n",
    "from collections import defaultdict\n",
    "from itertools import product\n",
    "from pathlib import Path\n",
    "\n",
    "input_file = Path('input/day 06.txt')"
   ]
  },
  {
   "cell_type": "code",
   "execution_count": 10,
   "metadata": {},
   "outputs": [
    {
     "name": "stdout",
     "output_type": "stream",
     "text": [
      "The number of lights that are on:\n",
      "377891\n"
     ]
    },
    {
     "data": {
      "image/png": "[encoded data removed]",
      "text/plain": [
       "<Figure size 432x288 with 1 Axes>"
      ]
     },
     "metadata": {
      "needs_background": "light"
     },
     "output_type": "display_data"
    }
   ],
   "source": [
    "display = defaultdict(int)\n",
    "parse = re.compile(r'(turn on|turn off|toggle) (\\d{1,3},\\d{1,3}) through (\\d{1,3},\\d{1,3})', re.I)\n",
    "\n",
    "for line in open('input/day 06.txt'):\n",
    "    command, point1, point2 = parse.findall(line)[0]\n",
    "    x1, y1 = [int(n) for n in point1.split(',')]\n",
    "    x2, y2 = [int(n) for n in point2.split(',')]\n",
    "    \n",
    "    for x,y in product(range(x1, x2 + 1), range(y1, y2 + 1)):\n",
    "        if command == 'turn on':\n",
    "            display[(x, y)] = 1\n",
    "        elif command == 'turn off':\n",
    "            display[(x, y)] = 0\n",
    "        elif command == 'toggle':\n",
    "            display[(x, y)] += 1\n",
    "            \n",
    "# count the lights that have been turned on or toggled \n",
    "lights_on = [k for k in display if display[k] % 2 == 1]\n",
    "x = [point[0] for point in lights_on]\n",
    "y = [point[1] for point in lights_on]\n",
    "plt.scatter(x, y)\n",
    "\n",
    "print('The number of lights that are on:')\n",
    "print(len(lights_on))"
   ]
  },
  {
   "cell_type": "markdown",
   "metadata": {},
   "source": [
    "## Part 2\n",
    "\n",
    "You just finish implementing your winning light pattern when you realize you mistranslated Santa's message from Ancient Nordic Elvish.\n",
    "\n",
    "The light grid you bought actually has individual brightness controls; each light can have a brightness of zero or more. The lights all start at zero.\n",
    "\n",
    "The phrase turn on actually means that you should increase the brightness of those lights by 1.\n",
    "\n",
    "The phrase turn off actually means that you should decrease the brightness of those lights by 1, to a minimum of zero.\n",
    "\n",
    "The phrase toggle actually means that you should increase the brightness of those lights by 2.\n",
    "\n",
    "What is the total brightness of all lights combined after following Santa's instructions?\n",
    "\n",
    "For example:\n",
    "\n",
    "    turn on 0,0 through 0,0 would increase the total brightness by 1.\n",
    "    toggle 0,0 through 999,999 would increase the total brightness by 2000000.\n",
    "\n"
   ]
  },
  {
   "cell_type": "code",
   "execution_count": 12,
   "metadata": {},
   "outputs": [
    {
     "name": "stdout",
     "output_type": "stream",
     "text": [
      "The total brightness of the display is:\n",
      "14110788\n"
     ]
    }
   ],
   "source": [
    "display = defaultdict(int)\n",
    "parse = re.compile(r'(turn on|turn off|toggle) (\\d{1,3},\\d{1,3}) through (\\d{1,3},\\d{1,3})', re.I)\n",
    "\n",
    "for line in open('input/day 06.txt'):\n",
    "    command, point1, point2 = parse.findall(line)[0]\n",
    "    x1, y1 = [int(n) for n in point1.split(',')]\n",
    "    x2, y2 = [int(n) for n in point2.split(',')]\n",
    "    \n",
    "    for x,y in product(range(x1, x2 + 1), range(y1, y2 + 1)):\n",
    "        if command == 'turn on':\n",
    "            display[(x, y)] += 1\n",
    "        elif command == 'turn off':\n",
    "            display[(x, y)] = max(0, display[(x, y)] - 1)\n",
    "        elif command == 'toggle':\n",
    "            display[(x, y)] += 2\n",
    "\n",
    "print('The total brightness of the display is:')\n",
    "print(sum(display.values()))"
   ]
  },
  {
   "cell_type": "code",
   "execution_count": null,
   "metadata": {},
   "outputs": [],
   "source": []
  }
 ],
 "metadata": {
  "kernelspec": {
   "display_name": "Python 3",
   "language": "python",
   "name": "python3"
  },
  "language_info": {
   "codemirror_mode": {
    "name": "ipython",
    "version": 3
   },
   "file_extension": ".py",
   "mimetype": "text/x-python",
   "name": "python",
   "nbconvert_exporter": "python",
   "pygments_lexer": "ipython3",
   "version": "3.9.0"
  }
 },
 "nbformat": 4,
 "nbformat_minor": 4
}
