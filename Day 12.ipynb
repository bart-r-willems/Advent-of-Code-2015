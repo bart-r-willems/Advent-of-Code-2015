{
 "cells": [
  {
   "cell_type": "markdown",
   "metadata": {},
   "source": [
    "# Day 12\n",
    "\n",
    "[Day 12: JSAbacusFramework.io](https://adventofcode.com/2015/day/12)"
   ]
  },
  {
   "cell_type": "code",
   "execution_count": 31,
   "metadata": {},
   "outputs": [],
   "source": [
    "import json\n",
    "import itertools\n",
    "\n",
    "with open('input/day 12.txt', 'r') as f:\n",
    "    input_data = json.loads(f.read())"
   ]
  },
  {
   "cell_type": "markdown",
   "metadata": {},
   "source": [
    "## Part 1\n",
    "\n",
    "Santa's Accounting-Elves need help balancing the books after a recent order. Unfortunately, their accounting software uses a peculiar storage format. That's where you come in.\n",
    "\n",
    "They have a JSON document which contains a variety of things: arrays ([1,2,3]), objects ({\"a\":1, \"b\":2}), numbers, and strings. Your first job is to simply find all of the numbers throughout the document and add them together.\n",
    "\n",
    "For example:\n",
    "\n",
    "    [1,2,3] and {\"a\":2,\"b\":4} both have a sum of 6.\n",
    "    [[[3]]] and {\"a\":{\"b\":4},\"c\":-1} both have a sum of 3.\n",
    "    {\"a\":[-1,1]} and [-1,{\"a\":1}] both have a sum of 0.\n",
    "    [] and {} both have a sum of 0.\n",
    "\n",
    "You will not encounter any strings containing numbers.\n",
    "\n",
    "What is the sum of all numbers in the document?"
   ]
  },
  {
   "cell_type": "code",
   "execution_count": 88,
   "metadata": {},
   "outputs": [],
   "source": [
    "def gather_numbers(structure, exclude_red=False):\n",
    "    try:\n",
    "        if type(structure) == None or type(structure) == str:\n",
    "            return []\n",
    "        elif type(structure) == float or type(structure) == int:\n",
    "            return [structure]\n",
    "        elif type(structure) == list:\n",
    "            return list(itertools.chain(*(gather_numbers(item, exclude_red) for item in structure)))\n",
    "        elif type(structure) == dict:\n",
    "            # part 2 requires excluding dictionaries with a 'red' value\n",
    "            if not exclude_red or 'red' not in structure.values():\n",
    "                return list(itertools.chain(*(gather_numbers(item, exclude_red) for item in structure.values())))\n",
    "            else:\n",
    "                return []\n",
    "        else:\n",
    "            print('Unknown structure type!', type(structure))\n",
    "            print(structure)\n",
    "    except Exception as e:\n",
    "        print(e)\n",
    "        print(structure)\n",
    "        return 0"
   ]
  },
  {
   "cell_type": "code",
   "execution_count": 93,
   "metadata": {},
   "outputs": [
    {
     "data": {
      "text/plain": [
       "191164"
      ]
     },
     "execution_count": 93,
     "metadata": {},
     "output_type": "execute_result"
    }
   ],
   "source": [
    "sum(gather_numbers(input_data))"
   ]
  },
  {
   "cell_type": "markdown",
   "metadata": {},
   "source": [
    "## Part 2\n",
    "\n",
    "Uh oh - the Accounting-Elves have realized that they double-counted everything red.\n",
    "\n",
    "Ignore any object (and all of its children) which has any property with the value \"red\". Do this only for objects ({...}), not arrays ([...]).\n",
    "\n",
    "    [1,2,3] still has a sum of 6.\n",
    "    [1,{\"c\":\"red\",\"b\":2},3] now has a sum of 4, because the middle object is ignored.\n",
    "    {\"d\":\"red\",\"e\":[1,2,3,4],\"f\":5} now has a sum of 0, because the entire structure is ignored.\n",
    "    [1,\"red\",5] has a sum of 6, because \"red\" in an array has no effect.\n"
   ]
  },
  {
   "cell_type": "code",
   "execution_count": 91,
   "metadata": {},
   "outputs": [
    {
     "data": {
      "text/plain": [
       "87842"
      ]
     },
     "execution_count": 91,
     "metadata": {},
     "output_type": "execute_result"
    }
   ],
   "source": [
    "sum(gather_numbers(input_data, exclude_red=True))"
   ]
  },
  {
   "cell_type": "code",
   "execution_count": null,
   "metadata": {},
   "outputs": [],
   "source": []
  }
 ],
 "metadata": {
  "kernelspec": {
   "display_name": "Python 3",
   "language": "python",
   "name": "python3"
  },
  "language_info": {
   "codemirror_mode": {
    "name": "ipython",
    "version": 3
   },
   "file_extension": ".py",
   "mimetype": "text/x-python",
   "name": "python",
   "nbconvert_exporter": "python",
   "pygments_lexer": "ipython3",
   "version": "3.9.0"
  }
 },
 "nbformat": 4,
 "nbformat_minor": 4
}
