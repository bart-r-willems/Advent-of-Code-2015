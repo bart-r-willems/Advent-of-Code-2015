{
 "cells": [
  {
   "cell_type": "markdown",
   "metadata": {},
   "source": [
    "# Day 19\n",
    "\n",
    "[Medicine for Rudolph](https://adventofcode.com/2015/day/19)"
   ]
  },
  {
   "cell_type": "markdown",
   "metadata": {},
   "source": [
    "## Part 1\n",
    "\n",
    "Rudolph the Red-Nosed Reindeer is sick! His nose isn't shining very brightly, and he needs medicine.\n",
    "\n",
    "Red-Nosed Reindeer biology isn't similar to regular reindeer biology; Rudolph is going to need custom-made medicine. Unfortunately, Red-Nosed Reindeer chemistry isn't similar to regular reindeer chemistry, either.\n",
    "\n",
    "The North Pole is equipped with a Red-Nosed Reindeer nuclear fusion/fission plant, capable of constructing any Red-Nosed Reindeer molecule you need. It works by starting with some input molecule and then doing a series of replacements, one per step, until it has the right molecule.\n",
    "\n",
    "However, the machine has to be calibrated before it can be used. Calibration involves determining the number of molecules that can be generated in one step from a given starting point.\n",
    "\n",
    "For example, imagine a simpler machine that supports only the following replacements:\n",
    "\n",
    "H => HO\n",
    "H => OH\n",
    "O => HH\n",
    "\n",
    "Given the replacements above and starting with HOH, the following molecules could be generated:\n",
    "\n",
    "    HOOH (via H => HO on the first H).\n",
    "    HOHO (via H => HO on the second H).\n",
    "    OHOH (via H => OH on the first H).\n",
    "    HOOH (via H => OH on the second H).\n",
    "    HHHH (via O => HH).\n",
    "\n",
    "So, in the example above, there are 4 distinct molecules (not five, because HOOH appears twice) after one replacement from HOH. Santa's favorite molecule, HOHOHO, can become 7 distinct molecules (over nine replacements: six from H, and three from O).\n",
    "\n",
    "The machine replaces without regard for the surrounding characters. For example, given the string H2O, the transition H => OO would result in OO2O.\n",
    "\n",
    "Your puzzle input describes all of the possible replacements and, at the bottom, the medicine molecule for which you need to calibrate the machine. How many distinct molecules can be created after all the different ways you can do one replacement on the medicine molecule?"
   ]
  },
  {
   "cell_type": "code",
   "execution_count": 1,
   "metadata": {},
   "outputs": [],
   "source": [
    "input_data = open('input/day 19.txt').read().splitlines()\n",
    "molecule_text = input_data[-1]\n",
    "replacements_text = [line.split(' => ') for line in input_data if ' => ' in line]"
   ]
  },
  {
   "cell_type": "code",
   "execution_count": 2,
   "metadata": {},
   "outputs": [],
   "source": [
    "molecule = []\n",
    "for letter in molecule_text:\n",
    "    if letter.isupper():\n",
    "        molecule.append(letter)\n",
    "    else:\n",
    "        molecule.append(molecule.pop() + letter)\n",
    "\n",
    "replacements = {}\n",
    "for origin, replacement in replacements_text:\n",
    "    if origin not in replacements:\n",
    "        replacements[origin] = []\n",
    "    replacements[origin].append(replacement)"
   ]
  },
  {
   "cell_type": "code",
   "execution_count": 4,
   "metadata": {},
   "outputs": [
    {
     "name": "stdout",
     "output_type": "stream",
     "text": [
      "535\n"
     ]
    }
   ],
   "source": [
    "results = set()\n",
    "for i in range(len(molecule)):\n",
    "    if molecule[i] in replacements:\n",
    "        for repl in replacements[molecule[i]]:\n",
    "            new_molecule = molecule[:i] + [repl] + molecule[i + 1:]\n",
    "            results.add(''.join(new_molecule))\n",
    "print(len(results))"
   ]
  },
  {
   "cell_type": "markdown",
   "metadata": {},
   "source": [
    "## Part 2\n",
    "\n",
    "Now that the machine is calibrated, you're ready to begin molecule fabrication.\n",
    "\n",
    "Molecule fabrication always begins with just a single electron, e, and applying replacements one at a time, just like the ones during calibration.\n",
    "\n",
    "For example, suppose you have the following replacements:\n",
    "\n",
    "e => H\n",
    "e => O\n",
    "H => HO\n",
    "H => OH\n",
    "O => HH\n",
    "\n",
    "If you'd like to make HOH, you start with e, and then make the following replacements:\n",
    "\n",
    "    e => O to get O\n",
    "    O => HH to get HH\n",
    "    H => OH (on the second H) to get HOH\n",
    "\n",
    "So, you could make HOH after 3 steps. Santa's favorite molecule, HOHOHO, can be made in 6 steps.\n",
    "\n",
    "How long will it take to make the medicine? Given the available replacements and the medicine molecule in your puzzle input, what is the fewest number of steps to go from e to the medicine molecule?"
   ]
  },
  {
   "cell_type": "code",
   "execution_count": 4,
   "metadata": {},
   "outputs": [],
   "source": [
    "# build a dictionary of reverse reactions\n",
    "reverse = {}\n",
    "for origin, result in replacements_text:\n",
    "    reverse[result] = origin\n",
    "reverse = {k: reverse[k] for k in sorted((k for k in reverse), key=len, reverse=True)}"
   ]
  },
  {
   "cell_type": "code",
   "execution_count": null,
   "metadata": {},
   "outputs": [],
   "source": [
    "def reverse_engineer(molecule, stepcount=0):\n",
    "    stepcount += 1\n",
    "    for k in reverse:\n",
    "        p = molecule.find(k)\n",
    "        new_molecule = molecule[:p] + reverse[k] + molecule[p + len(k):]\n",
    "        if reverse_engineer(new_molecule, stepcount) == 'e':\n",
    "            print(stepcount)\n",
    "            return 'e'\n",
    "    return 'No solution found'\n",
    "\n",
    "reverse_engineer('PRnFAr')"
   ]
  },
  {
   "cell_type": "code",
   "execution_count": 1,
   "metadata": {},
   "outputs": [
    {
     "ename": "NameError",
     "evalue": "name 'reverse' is not defined",
     "output_type": "error",
     "traceback": [
      "\u001b[1;31m---------------------------------------------------------------------------\u001b[0m",
      "\u001b[1;31mNameError\u001b[0m                                 Traceback (most recent call last)",
      "\u001b[1;32m<ipython-input-1-730c61bbb890>\u001b[0m in \u001b[0;36m<module>\u001b[1;34m\u001b[0m\n\u001b[1;32m----> 1\u001b[1;33m \u001b[0mreverse\u001b[0m\u001b[1;33m\u001b[0m\u001b[1;33m\u001b[0m\u001b[0m\n\u001b[0m",
      "\u001b[1;31mNameError\u001b[0m: name 'reverse' is not defined"
     ]
    }
   ],
   "source": [
    "reverse"
   ]
  },
  {
   "cell_type": "code",
   "execution_count": 4,
   "metadata": {},
   "outputs": [
    {
     "data": {
      "text/plain": [
       "295"
      ]
     },
     "execution_count": 4,
     "metadata": {},
     "output_type": "execute_result"
    }
   ],
   "source": [
    "len(molecule)"
   ]
  },
  {
   "cell_type": "markdown",
   "metadata": {},
   "source": [
    "# Analytical solution\n",
    "\n",
    "Total number of elements: 295\n"
   ]
  }
 ],
 "metadata": {
  "kernelspec": {
   "display_name": "Python 3",
   "language": "python",
   "name": "python3"
  },
  "language_info": {
   "codemirror_mode": {
    "name": "ipython",
    "version": 3
   },
   "file_extension": ".py",
   "mimetype": "text/x-python",
   "name": "python",
   "nbconvert_exporter": "python",
   "pygments_lexer": "ipython3",
   "version": "3.9.0"
  }
 },
 "nbformat": 4,
 "nbformat_minor": 4
}
