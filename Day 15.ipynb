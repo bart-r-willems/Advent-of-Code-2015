{
 "cells": [
  {
   "cell_type": "markdown",
   "metadata": {},
   "source": [
    "# Day 15\n",
    "\n",
    "[Science for hungry people](https://adventofcode.com/2015/day/15)"
   ]
  },
  {
   "cell_type": "code",
   "execution_count": 11,
   "metadata": {},
   "outputs": [],
   "source": [
    "import itertools"
   ]
  },
  {
   "cell_type": "markdown",
   "metadata": {},
   "source": [
    "## Part 1\n",
    "\n",
    "Today, you set out on the task of perfecting your milk-dunking cookie recipe. All you have to do is find the right balance of ingredients.\n",
    "\n",
    "Your recipe leaves room for exactly 100 teaspoons of ingredients. You make a list of the remaining ingredients you could use to finish the recipe (your puzzle input) and their properties per teaspoon:\n",
    "\n",
    "    capacity (how well it helps the cookie absorb milk)\n",
    "    durability (how well it keeps the cookie intact when full of milk)\n",
    "    flavor (how tasty it makes the cookie)\n",
    "    texture (how it improves the feel of the cookie)\n",
    "    calories (how many calories it adds to the cookie)\n",
    "\n",
    "You can only measure ingredients in whole-teaspoon amounts accurately, and you have to be accurate so you can reproduce your results in the future. The total score of a cookie can be found by adding up each of the properties (negative totals become 0) and then multiplying together everything except calories.\n",
    "\n",
    "For instance, suppose you have these two ingredients:\n",
    "\n",
    "Butterscotch: capacity -1, durability -2, flavor 6, texture 3, calories 8\n",
    "Cinnamon: capacity 2, durability 3, flavor -2, texture -1, calories 3\n",
    "\n",
    "Then, choosing to use 44 teaspoons of butterscotch and 56 teaspoons of cinnamon (because the amounts of each ingredient must add up to 100) would result in a cookie with the following properties:\n",
    "\n",
    "    A capacity of 44*-1 + 56*2 = 68\n",
    "    A durability of 44*-2 + 56*3 = 80\n",
    "    A flavor of 44*6 + 56*-2 = 152\n",
    "    A texture of 44*3 + 56*-1 = 76\n",
    "\n",
    "Multiplying these together (68 * 80 * 152 * 76, ignoring calories for now) results in a total score of 62842880, which happens to be the best score possible given these ingredients. If any properties had produced a negative total, it would have instead become zero, causing the whole score to multiply to zero.\n",
    "\n",
    "Given the ingredients in your kitchen and their properties, what is the total score of the highest-scoring cookie you can make?"
   ]
  },
  {
   "cell_type": "code",
   "execution_count": 45,
   "metadata": {},
   "outputs": [
    {
     "data": {
      "text/plain": [
       "0"
      ]
     },
     "execution_count": 45,
     "metadata": {},
     "output_type": "execute_result"
    }
   ],
   "source": [
    "def product(prodlist):\n",
    "    r = 1\n",
    "    for n in prodlist:\n",
    "        r *= n\n",
    "    return r\n",
    "\n",
    "product(range(10))"
   ]
  },
  {
   "cell_type": "code",
   "execution_count": 25,
   "metadata": {},
   "outputs": [
    {
     "data": {
      "text/plain": [
       "{'Sprinkles': {'capacity': 2,\n",
       "  'durability': 0,\n",
       "  'flavor': -2,\n",
       "  'texture': 0,\n",
       "  'calories': 3},\n",
       " 'Butterscotch': {'capacity': 0,\n",
       "  'durability': 5,\n",
       "  'flavor': -3,\n",
       "  'texture': 0,\n",
       "  'calories': 3},\n",
       " 'Chocolate': {'capacity': 0,\n",
       "  'durability': 0,\n",
       "  'flavor': 5,\n",
       "  'texture': -1,\n",
       "  'calories': 8},\n",
       " 'Candy': {'capacity': 0,\n",
       "  'durability': -1,\n",
       "  'flavor': 0,\n",
       "  'texture': 5,\n",
       "  'calories': 8}}"
      ]
     },
     "execution_count": 25,
     "metadata": {},
     "output_type": "execute_result"
    }
   ],
   "source": [
    "# read ingredients\n",
    "with open('input/day 15.txt') as f:\n",
    "    ingredients = {}\n",
    "    for line in f:\n",
    "        name, properties = line.strip().split(': ')\n",
    "        ingredients[name] = {}\n",
    "        for single_prop in properties.split(', '):\n",
    "            prop_name, value = single_prop.split(' ')\n",
    "            ingredients[name][prop_name] = int(value)\n",
    "ingredients"
   ]
  },
  {
   "cell_type": "code",
   "execution_count": 72,
   "metadata": {},
   "outputs": [],
   "source": [
    "def calc_score(amounts, calorie_requirement=None):\n",
    "    score = {}\n",
    "    for p in ['capacity', 'durability', 'flavor', 'texture']:\n",
    "        scores[p] = max(0, sum(amounts[k] * ingredients[k][p] for k in ingredients))\n",
    "    if calorie_requirement:\n",
    "        c_count = sum(amounts[k] * ingredients[k]['calories'] for k in ingredients)\n",
    "        if c_count == calorie_requirement:\n",
    "            return product(scores.values())\n",
    "        else:\n",
    "            return 0\n",
    "    else:\n",
    "        return product(scores.values())"
   ]
  },
  {
   "cell_type": "code",
   "execution_count": 71,
   "metadata": {},
   "outputs": [
    {
     "name": "stdout",
     "output_type": "stream",
     "text": [
      "Best solution\n",
      "{'Sprinkles': 17, 'Butterscotch': 19, 'Chocolate': 38, 'Candy': 26}\n",
      "21367368\n"
     ]
    }
   ],
   "source": [
    "amounts = list(range(101))\n",
    "best_score = 0\n",
    "best_recipe = None\n",
    "# the cartesian product of n ranges of all possible amounts will\n",
    "# yield all possible combinations for n ingredients\n",
    "for recipe in (r for r in itertools.product(*[amounts] * len(ingredients)) if sum(r) == 100):\n",
    "    if recipe == (17, 19, 38, 26):\n",
    "        print('Best solution')\n",
    "    amounts = {k: v for k, v in zip(ingredients.keys(), recipe)}\n",
    "    score = calc_score(amounts)\n",
    "    if score > best_score:\n",
    "        best_score = score\n",
    "        best_recipe = amounts\n",
    "print(best_recipe)\n",
    "print(best_score)"
   ]
  },
  {
   "cell_type": "markdown",
   "metadata": {},
   "source": [
    "## Part 2\n",
    "\n",
    "Your cookie recipe becomes wildly popular! Someone asks if you can make another recipe that has exactly 500 calories per cookie (so they can use it as a meal replacement). Keep the rest of your award-winning process the same (100 teaspoons, same ingredients, same scoring system).\n",
    "\n",
    "For example, given the ingredients above, if you had instead selected 40 teaspoons of butterscotch and 60 teaspoons of cinnamon (which still adds to 100), the total calorie count would be 40*8 + 60*3 = 500. The total score would go down, though: only 57600000, the best you can do in such trying circumstances.\n",
    "\n",
    "Given the ingredients in your kitchen and their properties, what is the total score of the highest-scoring cookie you can make with a calorie total of 500?"
   ]
  },
  {
   "cell_type": "code",
   "execution_count": 73,
   "metadata": {},
   "outputs": [
    {
     "name": "stdout",
     "output_type": "stream",
     "text": [
      "Best solution\n",
      "{'Sprinkles': 46, 'Butterscotch': 14, 'Chocolate': 30, 'Candy': 10}\n",
      "1766400\n"
     ]
    }
   ],
   "source": [
    "amounts = list(range(101))\n",
    "best_score = 0\n",
    "best_recipe = None\n",
    "# the cartesian product of n ranges of all possible amounts will\n",
    "# yield all possible combinations for n ingredients\n",
    "for recipe in (r for r in itertools.product(*[amounts] * len(ingredients)) if sum(r) == 100):\n",
    "    amounts = {k: v for k, v in zip(ingredients.keys(), recipe)}\n",
    "    score = calc_score(amounts, 500)\n",
    "    if score > best_score:\n",
    "        best_score = score\n",
    "        best_recipe = amounts\n",
    "print(best_recipe)\n",
    "print(best_score)"
   ]
  },
  {
   "cell_type": "code",
   "execution_count": null,
   "metadata": {},
   "outputs": [],
   "source": []
  }
 ],
 "metadata": {
  "kernelspec": {
   "display_name": "Python 3",
   "language": "python",
   "name": "python3"
  },
  "language_info": {
   "codemirror_mode": {
    "name": "ipython",
    "version": 3
   },
   "file_extension": ".py",
   "mimetype": "text/x-python",
   "name": "python",
   "nbconvert_exporter": "python",
   "pygments_lexer": "ipython3",
   "version": "3.9.0"
  }
 },
 "nbformat": 4,
 "nbformat_minor": 4
}
