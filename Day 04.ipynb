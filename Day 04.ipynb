{
 "cells": [
  {
   "cell_type": "markdown",
   "metadata": {},
   "source": [
    "# Day 4\n",
    "\n",
    "[The Ideal Stocking Stuffer](https://adventofcode.com/2015/day/4)\n",
    "\n",
    "## Part 1\n",
    "\n",
    "Santa needs help mining some AdventCoins (very similar to bitcoins) to use as gifts for all the economically forward-thinking little girls and boys.\n",
    "\n",
    "To do this, he needs to find MD5 hashes which, in hexadecimal, start with at least five zeroes. The input to the MD5 hash is some secret key (your puzzle input, given below) followed by a number in decimal. To mine AdventCoins, you must find Santa the lowest positive number (no leading zeroes: 1, 2, 3, ...) that produces such a hash.\n",
    "\n",
    "For example:\n",
    "\n",
    "    If your secret key is abcdef, the answer is 609043, because the MD5 hash of abcdef609043 starts with five zeroes (000001dbbfa...), and it is the lowest such number to do so.\n",
    "    If your secret key is pqrstuv, the lowest number it combines with to make an MD5 hash starting with five zeroes is 1048970; that is, the MD5 hash of pqrstuv1048970 looks like 000006136ef....\n",
    "\n",
    "Your puzzle input is `ckczppom`."
   ]
  },
  {
   "cell_type": "code",
   "execution_count": 2,
   "metadata": {},
   "outputs": [],
   "source": [
    "from hashlib import md5"
   ]
  },
  {
   "cell_type": "code",
   "execution_count": 11,
   "metadata": {},
   "outputs": [
    {
     "data": {
      "text/plain": [
       "'000001dbbfa3a5c83a2d506429c7b00e'"
      ]
     },
     "execution_count": 11,
     "metadata": {},
     "output_type": "execute_result"
    }
   ],
   "source": [
    "md5('abcdef609043'.encode()).hexdigest()"
   ]
  },
  {
   "cell_type": "code",
   "execution_count": 15,
   "metadata": {},
   "outputs": [
    {
     "name": "stdout",
     "output_type": "stream",
     "text": [
      "Solution found\n",
      "117946 results in a digest of 00000fe1c139a2c710e9a5c03ec1af03\n"
     ]
    }
   ],
   "source": [
    "puzzle_input = 'ckczppom'\n",
    "i = 0\n",
    "while True:\n",
    "    b = f'{puzzle_input}{i}'.encode()\n",
    "    m = md5(b).hexdigest()\n",
    "    if m[:5] == '00000':\n",
    "        break\n",
    "    else:\n",
    "        i += 1\n",
    "print('Solution found')\n",
    "print(f'{i} results in a digest of {m}')"
   ]
  },
  {
   "cell_type": "markdown",
   "metadata": {},
   "source": [
    "## Part 2\n",
    "\n",
    "Now find one that starts with six zeroes."
   ]
  },
  {
   "cell_type": "code",
   "execution_count": 16,
   "metadata": {},
   "outputs": [
    {
     "name": "stdout",
     "output_type": "stream",
     "text": [
      "Solution found\n",
      "3938038 results in a digest of 00000028023e3b4729684757f8dc3fbf\n"
     ]
    }
   ],
   "source": [
    "i = 0\n",
    "while True:\n",
    "    b = f'{puzzle_input}{i}'.encode()\n",
    "    m = md5(b).hexdigest()\n",
    "    if m[:6] == '000000':\n",
    "        break\n",
    "    else:\n",
    "        i += 1\n",
    "print('Solution found')\n",
    "print(f'{i} results in a digest of {m}')"
   ]
  },
  {
   "cell_type": "code",
   "execution_count": null,
   "metadata": {},
   "outputs": [],
   "source": []
  }
 ],
 "metadata": {
  "kernelspec": {
   "display_name": "Python 3",
   "language": "python",
   "name": "python3"
  },
  "language_info": {
   "codemirror_mode": {
    "name": "ipython",
    "version": 3
   },
   "file_extension": ".py",
   "mimetype": "text/x-python",
   "name": "python",
   "nbconvert_exporter": "python",
   "pygments_lexer": "ipython3",
   "version": "3.9.0"
  }
 },
 "nbformat": 4,
 "nbformat_minor": 4
}
