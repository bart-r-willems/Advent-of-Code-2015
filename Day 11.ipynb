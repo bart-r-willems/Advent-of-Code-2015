{
 "cells": [
  {
   "cell_type": "markdown",
   "metadata": {},
   "source": [
    "# Day 11\n",
    "\n",
    "[Corporate Policy](https://adventofcode.com/2015/day/11)"
   ]
  },
  {
   "cell_type": "markdown",
   "metadata": {},
   "source": [
    "Santa's previous password expired, and he needs help choosing a new one.\n",
    "\n",
    "To help him remember his new password after the old one expires, Santa has devised a method of coming up with a password based on the previous one. Corporate policy dictates that passwords must be exactly eight lowercase letters (for security reasons), so he finds his new password by incrementing his old password string repeatedly until it is valid.\n",
    "\n",
    "Incrementing is just like counting with numbers: xx, xy, xz, ya, yb, and so on. Increase the rightmost letter one step; if it was z, it wraps around to a, and repeat with the next letter to the left until one doesn't wrap around.\n",
    "\n",
    "Unfortunately for Santa, a new Security-Elf recently started, and he has imposed some additional password requirements:\n",
    "\n",
    "    Passwords must include one increasing straight of at least three letters, like abc, bcd, cde, and so on, up to xyz. They cannot skip letters; abd doesn't count.\n",
    "    Passwords may not contain the letters i, o, or l, as these letters can be mistaken for other characters and are therefore confusing.\n",
    "    Passwords must contain at least two different, non-overlapping pairs of letters, like aa, bb, or zz.\n",
    "\n",
    "For example:\n",
    "\n",
    "    hijklmmn meets the first requirement (because it contains the straight hij) but fails the second requirement requirement (because it contains i and l).\n",
    "    abbceffg meets the third requirement (because it repeats bb and ff) but fails the first requirement.\n",
    "    abbcegjk fails the third requirement, because it only has one double letter (bb).\n",
    "    The next password after abcdefgh is abcdffaa.\n",
    "    The next password after ghijklmn is ghjaabcc, because you eventually skip all the passwords that start with ghi..., since i is not allowed.\n",
    "\n",
    "Given Santa's current password (your puzzle input), what should his next password be?"
   ]
  },
  {
   "cell_type": "code",
   "execution_count": 31,
   "metadata": {},
   "outputs": [],
   "source": [
    "import re\n",
    "import string\n",
    "puzzle_input = 'vzbxkghb'"
   ]
  },
  {
   "cell_type": "code",
   "execution_count": 32,
   "metadata": {},
   "outputs": [],
   "source": [
    "def next_password(pwd):\n",
    "    pw_list = list(pwd)\n",
    "    pw_list.reverse()\n",
    "    for i in range(len(pw_list)):\n",
    "        if pw_list[i] == 'z':\n",
    "            pw_list[i] = 'a'\n",
    "        else:\n",
    "            pw_list[i] = chr(ord(pw_list[i]) + 1)\n",
    "            break\n",
    "    pw_list.reverse()\n",
    "    return ''.join(pw_list)"
   ]
  },
  {
   "cell_type": "code",
   "execution_count": 41,
   "metadata": {},
   "outputs": [],
   "source": [
    "LETTERCOMBOS = [string.ascii_lowercase[x:x + 3] for x in range(24)]\n",
    "\n",
    "def validate_password(pwd):\n",
    "    return all([validate_straight(pwd),\n",
    "                validate_ambigious(pwd),\n",
    "                validate_pairs(pwd)])\n",
    "\n",
    "def validate_straight(pwd):\n",
    "    for combo in LETTERCOMBOS:\n",
    "        if combo in pwd:\n",
    "            return True\n",
    "    return False\n",
    "\n",
    "def validate_ambigious(pwd):\n",
    "    return all(x not in pwd for x in 'iol')\n",
    "\n",
    "def validate_pairs(pwd):\n",
    "    return len(set(re.findall(r'(\\w)\\1', pwd))) >= 2\n",
    "\n",
    "assert validate_password('hijklmmn') == False\n",
    "assert validate_password('abbceffg') == False\n",
    "assert validate_password('abbcegjk') == False\n",
    "assert validate_password('abcdffaa') == True    \n",
    "    \n",
    "                        "
   ]
  },
  {
   "cell_type": "markdown",
   "metadata": {},
   "source": [
    "## Part 1\n",
    "\n",
    "Your puzzle input is vzbxkghb."
   ]
  },
  {
   "cell_type": "code",
   "execution_count": 43,
   "metadata": {},
   "outputs": [
    {
     "name": "stdout",
     "output_type": "stream",
     "text": [
      "vzbxxyzz\n"
     ]
    }
   ],
   "source": [
    "pwd = puzzle_input\n",
    "while not validate_password(pwd):\n",
    "    pwd = next_password(pwd)\n",
    "print(pwd)"
   ]
  },
  {
   "cell_type": "markdown",
   "metadata": {},
   "source": [
    "## Part 2\n",
    "\n",
    "Santa's password expired again. What's the next one?"
   ]
  },
  {
   "cell_type": "code",
   "execution_count": 35,
   "metadata": {},
   "outputs": [
    {
     "name": "stdout",
     "output_type": "stream",
     "text": [
      "vzcaabcc\n"
     ]
    }
   ],
   "source": [
    "pwd = next_password('vzbxxyzz')\n",
    "while not validate_password(pwd):\n",
    "    pwd = next_password(pwd)\n",
    "print(pwd)"
   ]
  },
  {
   "cell_type": "code",
   "execution_count": null,
   "metadata": {},
   "outputs": [],
   "source": []
  }
 ],
 "metadata": {
  "kernelspec": {
   "display_name": "Python 3",
   "language": "python",
   "name": "python3"
  },
  "language_info": {
   "codemirror_mode": {
    "name": "ipython",
    "version": 3
   },
   "file_extension": ".py",
   "mimetype": "text/x-python",
   "name": "python",
   "nbconvert_exporter": "python",
   "pygments_lexer": "ipython3",
   "version": "3.9.0"
  }
 },
 "nbformat": 4,
 "nbformat_minor": 4
}
