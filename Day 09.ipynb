{
 "cells": [
  {
   "cell_type": "markdown",
   "metadata": {},
   "source": [
    "# Day 9\n",
    "[All in a single night](https://adventofcode.com/2015/day/9)\n",
    "\n",
    "## Part 1\n",
    "\n",
    "Every year, Santa manages to deliver all of his presents in a single night.\n",
    "\n",
    "This year, however, he has some new locations to visit; his elves have provided him the distances between every pair of locations. He can start and end at any two (different) locations he wants, but he must visit each location exactly once. What is the shortest distance he can travel to achieve this?\n",
    "\n",
    "For example, given the following distances:\n",
    "\n",
    "`\n",
    "London to Dublin = 464\n",
    "London to Belfast = 518\n",
    "Dublin to Belfast = 141\n",
    "`\n",
    "The possible routes are therefore:\n",
    "`\n",
    "Dublin -> London -> Belfast = 982\n",
    "London -> Dublin -> Belfast = 605\n",
    "London -> Belfast -> Dublin = 659\n",
    "Dublin -> Belfast -> London = 659\n",
    "Belfast -> Dublin -> London = 605\n",
    "Belfast -> London -> Dublin = 982\n",
    "`\n",
    "The shortest of these is `London -> Dublin -> Belfast = 605`, and so the answer is 605 in this example.\n",
    "\n",
    "What is the distance of the shortest route?"
   ]
  },
  {
   "cell_type": "code",
   "execution_count": 17,
   "metadata": {},
   "outputs": [],
   "source": [
    "import re\n",
    "import itertools\n",
    "import operator"
   ]
  },
  {
   "cell_type": "code",
   "execution_count": 9,
   "metadata": {},
   "outputs": [],
   "source": [
    "locations = set()\n",
    "distances = {}\n",
    "parse = re.compile(r'^(.*) to (.*) = (.*)$', re.I)\n",
    "with open('input/day 09.txt', encoding='utf-8') as f:\n",
    "    for line in f:\n",
    "        city1, city2, dist = parse.findall(line)[0]\n",
    "        locations.add(city1)\n",
    "        locations.add(city2)\n",
    "        distances[(city1, city2)] = int(dist)\n",
    "        distances[(city2, city1)] = int(dist)"
   ]
  },
  {
   "cell_type": "code",
   "execution_count": 23,
   "metadata": {},
   "outputs": [],
   "source": [
    "total_dist = {}\n",
    "for route in itertools.permutations(locations):\n",
    "    from_loc = route[:-1]\n",
    "    to_loc = route[1:]\n",
    "    dist = sum(distances[hop] for hop in zip(from_loc, to_loc))\n",
    "    total_dist[route] = dist\n",
    "total_dist = {k: total_dist[k] for k in sorted(total_dist, key=lambda k: total_dist[k])}\n",
    "        "
   ]
  },
  {
   "cell_type": "code",
   "execution_count": 24,
   "metadata": {},
   "outputs": [
    {
     "name": "stdout",
     "output_type": "stream",
     "text": [
      "('Norrath', 'Faerun', 'Straylight', 'Tristram', 'AlphaCentauri', 'Snowdin', 'Arbre', 'Tambi') 251\n",
      "('Tambi', 'Arbre', 'Snowdin', 'AlphaCentauri', 'Tristram', 'Straylight', 'Faerun', 'Norrath') 251\n",
      "('Norrath', 'Faerun', 'Tambi', 'Arbre', 'Snowdin', 'AlphaCentauri', 'Tristram', 'Straylight') 253\n",
      "('Straylight', 'Tristram', 'AlphaCentauri', 'Snowdin', 'Arbre', 'Tambi', 'Faerun', 'Norrath') 253\n",
      "('Norrath', 'Faerun', 'AlphaCentauri', 'Snowdin', 'Arbre', 'Tambi', 'Tristram', 'Straylight') 258\n",
      "('Straylight', 'Tristram', 'Tambi', 'Arbre', 'Snowdin', 'AlphaCentauri', 'Faerun', 'Norrath') 258\n",
      "('Arbre', 'Tambi', 'Tristram', 'AlphaCentauri', 'Snowdin', 'Norrath', 'Faerun', 'Straylight') 266\n",
      "('Straylight', 'Faerun', 'Norrath', 'Snowdin', 'AlphaCentauri', 'Tristram', 'Tambi', 'Arbre') 266\n",
      "('Tristram', 'AlphaCentauri', 'Snowdin', 'Arbre', 'Tambi', 'Straylight', 'Faerun', 'Norrath') 269\n",
      "('Norrath', 'Faerun', 'Straylight', 'Tambi', 'Arbre', 'Snowdin', 'AlphaCentauri', 'Tristram') 269\n"
     ]
    }
   ],
   "source": [
    "all_routes = list(total_dist.keys())\n",
    "for route in all_routes[:10]:\n",
    "    print(route, total_dist[route])"
   ]
  },
  {
   "cell_type": "markdown",
   "metadata": {},
   "source": [
    "## Part 2\n",
    "\n",
    "The next year, just to show off, Santa decides to take the route with the longest distance instead.\n",
    "\n",
    "He can still start and end at any two (different) locations he wants, and he still must visit each location exactly once.\n",
    "\n",
    "For example, given the distances above, the longest route would be 982 via (for example) Dublin -> London -> Belfast.\n",
    "\n",
    "What is the distance of the longest route?"
   ]
  },
  {
   "cell_type": "code",
   "execution_count": 25,
   "metadata": {},
   "outputs": [
    {
     "name": "stdout",
     "output_type": "stream",
     "text": [
      "('Snowdin', 'Tambi', 'Norrath', 'AlphaCentauri', 'Straylight', 'Arbre', 'Faerun', 'Tristram') 898\n",
      "('Tristram', 'Faerun', 'Arbre', 'Straylight', 'AlphaCentauri', 'Norrath', 'Tambi', 'Snowdin') 898\n",
      "('Faerun', 'Arbre', 'Tristram', 'Snowdin', 'Tambi', 'Norrath', 'AlphaCentauri', 'Straylight') 895\n",
      "('Straylight', 'AlphaCentauri', 'Norrath', 'Tambi', 'Snowdin', 'Tristram', 'Arbre', 'Faerun') 895\n",
      "('Snowdin', 'Tristram', 'Faerun', 'Arbre', 'Straylight', 'AlphaCentauri', 'Norrath', 'Tambi') 893\n",
      "('Tambi', 'Norrath', 'AlphaCentauri', 'Straylight', 'Arbre', 'Faerun', 'Tristram', 'Snowdin') 893\n",
      "('Tristram', 'Snowdin', 'Tambi', 'Norrath', 'AlphaCentauri', 'Straylight', 'Arbre', 'Faerun') 890\n",
      "('Tristram', 'Arbre', 'Faerun', 'Snowdin', 'Tambi', 'Norrath', 'AlphaCentauri', 'Straylight') 890\n",
      "('Faerun', 'Arbre', 'Straylight', 'AlphaCentauri', 'Norrath', 'Tambi', 'Snowdin', 'Tristram') 890\n",
      "('Straylight', 'AlphaCentauri', 'Norrath', 'Tambi', 'Snowdin', 'Faerun', 'Arbre', 'Tristram') 890\n"
     ]
    }
   ],
   "source": [
    "total_dist = {k: total_dist[k] for k in sorted(total_dist, reverse=True, key=lambda k: total_dist[k])}\n",
    "all_routes = list(total_dist.keys())\n",
    "for route in all_routes[:10]:\n",
    "    print(route, total_dist[route])"
   ]
  },
  {
   "cell_type": "code",
   "execution_count": null,
   "metadata": {},
   "outputs": [],
   "source": []
  }
 ],
 "metadata": {
  "kernelspec": {
   "display_name": "Python 3",
   "language": "python",
   "name": "python3"
  },
  "language_info": {
   "codemirror_mode": {
    "name": "ipython",
    "version": 3
   },
   "file_extension": ".py",
   "mimetype": "text/x-python",
   "name": "python",
   "nbconvert_exporter": "python",
   "pygments_lexer": "ipython3",
   "version": "3.9.0"
  }
 },
 "nbformat": 4,
 "nbformat_minor": 4
}
