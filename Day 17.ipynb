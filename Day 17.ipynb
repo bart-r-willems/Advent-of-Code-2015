{
 "cells": [
  {
   "cell_type": "markdown",
   "metadata": {},
   "source": [
    "# Day 17\n",
    "\n",
    "[No such thing as too much](https://adventofcode.com/2015/day/17)"
   ]
  },
  {
   "cell_type": "markdown",
   "metadata": {},
   "source": [
    "## Part 1\n",
    "\n",
    "The elves bought too much eggnog again - 150 liters this time. To fit it all into your refrigerator, you'll need to move it into smaller containers. You take an inventory of the capacities of the available containers.\n",
    "\n",
    "For example, suppose you have containers of size 20, 15, 10, 5, and 5 liters. If you need to store 25 liters, there are four ways to do it:\n",
    "\n",
    "    15 and 10\n",
    "    20 and 5 (the first 5)\n",
    "    20 and 5 (the second 5)\n",
    "    15, 5, and 5\n",
    "\n",
    "Filling all containers entirely, how many different combinations of containers can exactly fit all 150 liters of eggnog?"
   ]
  },
  {
   "cell_type": "code",
   "execution_count": 4,
   "metadata": {},
   "outputs": [
    {
     "data": {
      "text/plain": [
       "[47, 46, 44, 44, 43, 41, 38, 36, 34, 31, 27, 21, 17, 17, 10, 9, 6, 4, 4, 3]"
      ]
     },
     "execution_count": 4,
     "metadata": {},
     "output_type": "execute_result"
    }
   ],
   "source": [
    "inputlist = open('input/day 17.txt').read().splitlines()\n",
    "sizes = sorted((int(s) for s in inputlist), reverse=True)\n",
    "sizes"
   ]
  },
  {
   "cell_type": "code",
   "execution_count": 9,
   "metadata": {},
   "outputs": [
    {
     "name": "stdout",
     "output_type": "stream",
     "text": [
      "1638\n"
     ]
    }
   ],
   "source": [
    "def find_combos(sizes, target):\n",
    "    result = []\n",
    "    for i in range(len(sizes)):\n",
    "        if sizes[i] == target:\n",
    "            result.append([sizes[i]])\n",
    "        elif sizes[i] < target:\n",
    "            for combo in find_combos(sizes[i + 1:], target - sizes[i]):\n",
    "                result.append([sizes[i]] + combo)\n",
    "    return result\n",
    "\n",
    "print(len(find_combos(sizes, 150)))"
   ]
  },
  {
   "cell_type": "markdown",
   "metadata": {},
   "source": [
    "## Part 2\n",
    "\n",
    "While playing with all the containers in the kitchen, another load of eggnog arrives! The shipping and receiving department is requesting as many containers as you can spare.\n",
    "\n",
    "Find the minimum number of containers that can exactly fit all 150 liters of eggnog. How many different ways can you fill that number of containers and still hold exactly 150 litres?\n",
    "\n",
    "In the example above, the minimum number of containers was two. There were three ways to use that many containers, and so the answer there would be 3."
   ]
  },
  {
   "cell_type": "code",
   "execution_count": 11,
   "metadata": {},
   "outputs": [
    {
     "name": "stdout",
     "output_type": "stream",
     "text": [
      "Minimum number of containers: 4\n",
      "There are 17 ways to store the eggnog in 4 containers:\n",
      "[47, 46, 36, 21]\n",
      "[47, 44, 38, 21]\n",
      "[47, 44, 38, 21]\n",
      "[47, 38, 34, 31]\n",
      "[46, 44, 43, 17]\n",
      "[46, 44, 43, 17]\n",
      "[46, 44, 43, 17]\n",
      "[46, 44, 43, 17]\n",
      "[46, 43, 34, 27]\n",
      "[46, 41, 36, 27]\n",
      "[44, 44, 41, 21]\n",
      "[44, 43, 36, 27]\n",
      "[44, 41, 38, 27]\n",
      "[44, 41, 34, 31]\n",
      "[44, 43, 36, 27]\n",
      "[44, 41, 38, 27]\n",
      "[44, 41, 34, 31]\n"
     ]
    }
   ],
   "source": [
    "n = min(len(x) for x in find_combos(sizes, 150))\n",
    "print('Minimum number of containers:', n)\n",
    "\n",
    "containers = [c for c in find_combos(sizes, 150) if len(c) == n]\n",
    "print(f'There are {len(containers)} ways to store the eggnog in {n} containers:')\n",
    "for c in containers:\n",
    "    print(c)"
   ]
  },
  {
   "cell_type": "code",
   "execution_count": null,
   "metadata": {},
   "outputs": [],
   "source": []
  }
 ],
 "metadata": {
  "kernelspec": {
   "display_name": "Python 3",
   "language": "python",
   "name": "python3"
  },
  "language_info": {
   "codemirror_mode": {
    "name": "ipython",
    "version": 3
   },
   "file_extension": ".py",
   "mimetype": "text/x-python",
   "name": "python",
   "nbconvert_exporter": "python",
   "pygments_lexer": "ipython3",
   "version": "3.9.0"
  }
 },
 "nbformat": 4,
 "nbformat_minor": 4
}
