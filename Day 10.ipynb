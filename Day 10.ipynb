{
 "cells": [
  {
   "cell_type": "markdown",
   "metadata": {},
   "source": [
    "\n",
    "# Day 10\n",
    "\n",
    "[Elves look, elves say](https://adventofcode.com/2015/day/10)"
   ]
  },
  {
   "cell_type": "markdown",
   "metadata": {},
   "source": [
    "Today, the Elves are playing a game called look-and-say. They take turns making sequences by reading aloud the previous sequence and using that reading as the next sequence. For example, 211 is read as \"one two, two ones\", which becomes 1221 (1 2, 2 1s).\n",
    "\n",
    "Look-and-say sequences are generated iteratively, using the previous value as input for the next step. For each step, take the previous value, and replace each run of digits (like 111) with the number of digits (3) followed by the digit itself (1).\n",
    "\n",
    "For example:\n",
    "\n",
    "    1 becomes 11 (1 copy of digit 1).\n",
    "    11 becomes 21 (2 copies of digit 1).\n",
    "    21 becomes 1211 (one 2 followed by one 1).\n",
    "    1211 becomes 111221 (one 1, one 2, and two 1s).\n",
    "    111221 becomes 312211 (three 1s, two 2s, and one 1).\n",
    "\n",
    "Starting with the digits in your puzzle input, apply this process 40 times. What is the length of the result?\n",
    "\n",
    "Your puzzle input is `1113222113`."
   ]
  },
  {
   "cell_type": "code",
   "execution_count": 1,
   "metadata": {},
   "outputs": [],
   "source": [
    "import itertools\n",
    "puzzle_input = '1113222113'\n",
    "\n",
    "def look_and_say(text):\n",
    "    sequence = []\n",
    "    for value, items in itertools.groupby(text):\n",
    "        count = len(list(items))\n",
    "        sequence.append(str(count))\n",
    "        sequence.append(value)\n",
    "    return ''.join(sequence)\n",
    "        \n",
    "assert look_and_say('1') == '11'\n",
    "assert look_and_say('11') == '21'\n",
    "assert look_and_say('21') == '1211'\n",
    "assert look_and_say('1211') == '111221'\n",
    "assert look_and_say('111221') == '312211'           "
   ]
  },
  {
   "cell_type": "markdown",
   "metadata": {},
   "source": [
    "## Part 1"
   ]
  },
  {
   "cell_type": "code",
   "execution_count": 2,
   "metadata": {},
   "outputs": [
    {
     "name": "stdout",
     "output_type": "stream",
     "text": [
      "252594\n"
     ]
    }
   ],
   "source": [
    "s = puzzle_input\n",
    "for i in range(40):\n",
    "    s = look_and_say(s)\n",
    "print(len(s))"
   ]
  },
  {
   "cell_type": "markdown",
   "metadata": {},
   "source": [
    "## Part 2\n",
    "\n",
    "Neat, right? You might also enjoy hearing John Conway talking about this sequence (that's Conway of Conway's Game of Life fame).\n",
    "\n",
    "Now, starting again with the digits in your puzzle input, apply this process 50 times. What is the length of the new result?"
   ]
  },
  {
   "cell_type": "code",
   "execution_count": 3,
   "metadata": {},
   "outputs": [
    {
     "name": "stdout",
     "output_type": "stream",
     "text": [
      "3579328\n"
     ]
    }
   ],
   "source": [
    "s = puzzle_input\n",
    "for i in range(50):\n",
    "    s = look_and_say(s)\n",
    "print(len(s))"
   ]
  },
  {
   "cell_type": "code",
   "execution_count": null,
   "metadata": {},
   "outputs": [],
   "source": []
  }
 ],
 "metadata": {
  "kernelspec": {
   "display_name": "Python 3",
   "language": "python",
   "name": "python3"
  },
  "language_info": {
   "codemirror_mode": {
    "name": "ipython",
    "version": 3
   },
   "file_extension": ".py",
   "mimetype": "text/x-python",
   "name": "python",
   "nbconvert_exporter": "python",
   "pygments_lexer": "ipython3",
   "version": "3.9.0"
  }
 },
 "nbformat": 4,
 "nbformat_minor": 4
}
