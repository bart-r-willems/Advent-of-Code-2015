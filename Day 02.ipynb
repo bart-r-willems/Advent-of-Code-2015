{
 "cells": [
  {
   "cell_type": "markdown",
   "metadata": {},
   "source": [
    "# Day 2\n",
    "\n",
    "[I was told there would be no math](https://adventofcode.com/2015/day/2)\n",
    "\n",
    "The elves are running low on wrapping paper, and so they need to submit an order for more. They have a list of the dimensions (length l, width w, and height h) of each present, and only want to order exactly as much as they need.\n",
    "\n",
    "Fortunately, every present is a box (a perfect right rectangular prism), which makes calculating the required wrapping paper for each gift a little easier: find the surface area of the box, which is $2×l×w + 2×w×h + 2×h×l$. The elves also need a little extra paper for each present: the area of the smallest side."
   ]
  },
  {
   "cell_type": "markdown",
   "metadata": {},
   "source": [
    "## Part 1\n",
    "\n",
    "For example:\n",
    "\n",
    "    A present with dimensions 2x3x4 requires 2*6 + 2*12 + 2*8 = 52 square feet of wrapping paper plus 6 square feet of slack, for a total of 58 square feet.\n",
    "    A present with dimensions 1x1x10 requires 2*1 + 2*10 + 2*10 = 42 square feet of wrapping paper plus 1 square foot of slack, for a total of 43 square feet.\n",
    "\n",
    "All numbers in the elves' list are in feet. How many total square feet of wrapping paper should they order?"
   ]
  },
  {
   "cell_type": "code",
   "execution_count": 4,
   "metadata": {},
   "outputs": [],
   "source": [
    "input_list = open('input/day 02.txt', 'r').read().split('\\n')"
   ]
  },
  {
   "cell_type": "code",
   "execution_count": 2,
   "metadata": {},
   "outputs": [],
   "source": [
    "def calc_area(size):\n",
    "    '''\n",
    "    return the area needed to wrap a box\n",
    "    input:\n",
    "        size - string in form wxhxl\n",
    "    '''\n",
    "    w, h, l = [int(n) for n in size.split('x')]\n",
    "    area = [w*h, w*l, h*l]\n",
    "    return 2 * sum(area) + min(area)\n",
    "\n",
    "# test functoin\n",
    "assert calc_area('2x3x4') == 58\n",
    "assert calc_area('1x1x10') == 43"
   ]
  },
  {
   "cell_type": "code",
   "execution_count": 6,
   "metadata": {},
   "outputs": [
    {
     "name": "stdout",
     "output_type": "stream",
     "text": [
      "Part 1 solution:\n",
      "1588178\n"
     ]
    }
   ],
   "source": [
    "print('Part 1 solution:')\n",
    "print(sum(calc_area(x) for x in input_list if x))"
   ]
  },
  {
   "cell_type": "markdown",
   "metadata": {},
   "source": [
    "## Part 2\n",
    "\n",
    "The elves are also running low on ribbon. Ribbon is all the same width, so they only have to worry about the length they need to order, which they would again like to be exact.\n",
    "\n",
    "The ribbon required to wrap a present is the shortest distance around its sides, or the smallest perimeter of any one face. Each present also requires a bow made out of ribbon as well; the feet of ribbon required for the perfect bow is equal to the cubic feet of volume of the present. Don't ask how they tie the bow, though; they'll never tell.\n",
    "\n",
    "For example:\n",
    "\n",
    "    A present with dimensions 2x3x4 requires 2+2+3+3 = 10 feet of ribbon to wrap the present plus 2*3*4 = 24 feet of ribbon for the bow, for a total of 34 feet.\n",
    "    A present with dimensions 1x1x10 requires 1+1+1+1 = 4 feet of ribbon to wrap the present plus 1*1*10 = 10 feet of ribbon for the bow, for a total of 14 feet."
   ]
  },
  {
   "cell_type": "code",
   "execution_count": 6,
   "metadata": {},
   "outputs": [],
   "source": [
    "def calc_ribbon(size):\n",
    "    a, b, c = sorted([int(x) for x in size.split('x')])\n",
    "    ribbon_length = 2*a + 2*b\n",
    "    bow_length = a * b * c\n",
    "    return ribbon_length + bow_length\n",
    "\n",
    "assert calc_ribbon('4x3x2') == 34\n",
    "assert calc_ribbon('1x1x10') == 14\n",
    "assert calc_ribbon('10x1x1') == 14"
   ]
  },
  {
   "cell_type": "code",
   "execution_count": 7,
   "metadata": {},
   "outputs": [
    {
     "name": "stdout",
     "output_type": "stream",
     "text": [
      "Part 2 solution:\n",
      "3783758\n"
     ]
    }
   ],
   "source": [
    "print('Part 2 solution:')\n",
    "print(sum(calc_ribbon(x) for x in input_list if x))"
   ]
  },
  {
   "cell_type": "code",
   "execution_count": 11,
   "metadata": {},
   "outputs": [
    {
     "data": {
      "text/plain": [
       "14"
      ]
     },
     "execution_count": 11,
     "metadata": {},
     "output_type": "execute_result"
    }
   ],
   "source": [
    "calc_ribbon('1x1x10')"
   ]
  },
  {
   "cell_type": "code",
   "execution_count": null,
   "metadata": {},
   "outputs": [],
   "source": []
  }
 ],
 "metadata": {
  "kernelspec": {
   "display_name": "Python 3",
   "language": "python",
   "name": "python3"
  },
  "language_info": {
   "codemirror_mode": {
    "name": "ipython",
    "version": 3
   },
   "file_extension": ".py",
   "mimetype": "text/x-python",
   "name": "python",
   "nbconvert_exporter": "python",
   "pygments_lexer": "ipython3",
   "version": "3.9.0"
  }
 },
 "nbformat": 4,
 "nbformat_minor": 4
}
