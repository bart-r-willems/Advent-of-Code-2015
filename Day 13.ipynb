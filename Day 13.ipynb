{
 "cells": [
  {
   "cell_type": "markdown",
   "metadata": {},
   "source": [
    "# Day 13\n",
    "\n",
    "[Knights of the Dinner Table](https://adventofcode.com/2015/day/13)"
   ]
  },
  {
   "cell_type": "markdown",
   "metadata": {},
   "source": [
    "## Part 1\n",
    "\n",
    "In years past, the holiday feast with your family hasn't gone so well. Not everyone gets along! This year, you resolve, will be different. You're going to find the optimal seating arrangement and avoid all those awkward conversations.\n",
    "\n",
    "You start by writing up a list of everyone invited and the amount their happiness would increase or decrease if they were to find themselves sitting next to each other person. You have a circular table that will be just big enough to fit everyone comfortably, and so each person will have exactly two neighbors.\n",
    "\n",
    "For example, suppose you have only four attendees planned, and you calculate their potential happiness as follows:\n",
    "\n",
    "`\n",
    "Alice would gain 54 happiness units by sitting next to Bob.\n",
    "Alice would lose 79 happiness units by sitting next to Carol.\n",
    "Alice would lose 2 happiness units by sitting next to David.\n",
    "Bob would gain 83 happiness units by sitting next to Alice.\n",
    "Bob would lose 7 happiness units by sitting next to Carol.\n",
    "Bob would lose 63 happiness units by sitting next to David.\n",
    "Carol would lose 62 happiness units by sitting next to Alice.\n",
    "Carol would gain 60 happiness units by sitting next to Bob.\n",
    "Carol would gain 55 happiness units by sitting next to David.\n",
    "David would gain 46 happiness units by sitting next to Alice.\n",
    "David would lose 7 happiness units by sitting next to Bob.\n",
    "David would gain 41 happiness units by sitting next to Carol.\n",
    "`\n",
    "\n",
    "Then, if you seat Alice next to David, Alice would lose 2 happiness units (because David talks so much), but David would gain 46 happiness units (because Alice is such a good listener), for a total change of 44.\n",
    "\n",
    "If you continue around the table, you could then seat Bob next to Alice (Bob gains 83, Alice gains 54). Finally, seat Carol, who sits next to Bob (Carol gains 60, Bob loses 7) and David (Carol gains 55, David gains 41). The arrangement looks like this:\n",
    "\n",
    "     +41 +46\n",
    "+55   David    -2\n",
    "Carol       Alice\n",
    "+60    Bob    +54\n",
    "     -7  +83\n",
    "\n",
    "After trying every other seating arrangement in this hypothetical scenario, you find that this one is the most optimal, with a total change in happiness of 330.\n",
    "\n",
    "What is the total change in happiness for the optimal seating arrangement of the actual guest list?"
   ]
  },
  {
   "cell_type": "code",
   "execution_count": 21,
   "metadata": {},
   "outputs": [],
   "source": [
    "import re\n",
    "import itertools\n",
    "\n",
    "# process input\n",
    "happiness = {}\n",
    "with open('input/day 13.txt') as f:\n",
    "    for line in f:\n",
    "        guest, result, score, neighbor = re.findall(r'(\\w*) would (gain|lose) (\\d*) happiness units by sitting next to (\\w*)\\.', line)[0]\n",
    "        happiness[(guest, neighbor)] = int(score) if result == 'gain' else -int(score)\n",
    "guests = list({pair[0] for pair in happiness})"
   ]
  },
  {
   "cell_type": "code",
   "execution_count": 22,
   "metadata": {},
   "outputs": [
    {
     "name": "stdout",
     "output_type": "stream",
     "text": [
      "The best arrangement is: ('Alice', 'Mallory', 'George', 'David', 'Eric', 'Carol', 'Frank', 'Bob') with 733 points.\n"
     ]
    }
   ],
   "source": [
    "# go through all arrangement\n",
    "best_score, best_arrangement = 0, None\n",
    "for arrangement in itertools.permutations(guests):\n",
    "    table = list(arrangement) + [arrangement[0]] # so the last guest has a right neighbor\n",
    "    score = 0\n",
    "    # print(table)\n",
    "    for guest_a, guest_b in zip(table[1:], table[:-1]):\n",
    "        score += happiness[(guest_a, guest_b)]\n",
    "        score += happiness[(guest_b, guest_a)]\n",
    "    if score > best_score:\n",
    "        best_score = score\n",
    "        best_arrangement = arrangement\n",
    "print('The best arrangement is:', best_arrangement, 'with', best_score, 'points.')"
   ]
  },
  {
   "cell_type": "markdown",
   "metadata": {},
   "source": [
    "## Part 2\n",
    "\n",
    "In all the commotion, you realize that you forgot to seat yourself. At this point, you're pretty apathetic toward the whole thing, and your happiness wouldn't really go up or down regardless of who you sit next to. You assume everyone else would be just as ambivalent about sitting next to you, too.\n",
    "\n",
    "So, add yourself to the list, and give all happiness relationships that involve you a score of 0.\n",
    "\n",
    "What is the total change in happiness for the optimal seating arrangement that actually includes yourself?"
   ]
  },
  {
   "cell_type": "code",
   "execution_count": 23,
   "metadata": {},
   "outputs": [],
   "source": [
    "# update the happiness table\n",
    "me = 'Bart'\n",
    "for guest in guests:\n",
    "    happiness[(me, guest)] = 0\n",
    "    happiness[(guest, me)] = 0\n",
    "guests.append('Bart')"
   ]
  },
  {
   "cell_type": "code",
   "execution_count": 24,
   "metadata": {},
   "outputs": [
    {
     "name": "stdout",
     "output_type": "stream",
     "text": [
      "The best arrangement is: ('Alice', 'Mallory', 'Bart', 'George', 'David', 'Eric', 'Carol', 'Frank', 'Bob') with 725 points.\n"
     ]
    }
   ],
   "source": [
    "# go through all arrangement\n",
    "best_score, best_arrangement = 0, None\n",
    "for arrangement in itertools.permutations(guests):\n",
    "    table = list(arrangement) + [arrangement[0]] # so the last guest has a right neighbor\n",
    "    score = 0\n",
    "    # print(table)\n",
    "    for guest_a, guest_b in zip(table[1:], table[:-1]):\n",
    "        score += happiness[(guest_a, guest_b)]\n",
    "        score += happiness[(guest_b, guest_a)]\n",
    "    if score > best_score:\n",
    "        best_score = score\n",
    "        best_arrangement = arrangement\n",
    "print('The best arrangement is:', best_arrangement, 'with', best_score, 'points.')"
   ]
  },
  {
   "cell_type": "code",
   "execution_count": null,
   "metadata": {},
   "outputs": [],
   "source": []
  }
 ],
 "metadata": {
  "kernelspec": {
   "display_name": "Python 3",
   "language": "python",
   "name": "python3"
  },
  "language_info": {
   "codemirror_mode": {
    "name": "ipython",
    "version": 3
   },
   "file_extension": ".py",
   "mimetype": "text/x-python",
   "name": "python",
   "nbconvert_exporter": "python",
   "pygments_lexer": "ipython3",
   "version": "3.9.0"
  }
 },
 "nbformat": 4,
 "nbformat_minor": 4
}
