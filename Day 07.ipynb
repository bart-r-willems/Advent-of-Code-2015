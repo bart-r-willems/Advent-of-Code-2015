{
 "cells": [
  {
   "cell_type": "markdown",
   "metadata": {},
   "source": [
    "# Day 7\n",
    "\n",
    "[Some Assembly Required](https://adventofcode.com/2015/day/7)\n",
    "\n",
    "This year, Santa brought little Bobby Tables a set of wires and bitwise logic gates! Unfortunately, little Bobby is a little under the recommended age range, and he needs help assembling the circuit.\n",
    "\n",
    "Each wire has an identifier (some lowercase letters) and can carry a 16-bit signal (a number from 0 to 65535). A signal is provided to each wire by a gate, another wire, or some specific value. Each wire can only get a signal from one source, but can provide its signal to multiple destinations. A gate provides no signal until all of its inputs have a signal.\n",
    "\n",
    "The included instructions booklet describes how to connect the parts together: x AND y -> z means to connect wires x and y to an AND gate, and then connect its output to wire z.\n",
    "\n",
    "For example:\n",
    "\n",
    "    123 -> x means that the signal 123 is provided to wire x.\n",
    "    x AND y -> z means that the bitwise AND of wire x and wire y is provided to wire z.\n",
    "    p LSHIFT 2 -> q means that the value from wire p is left-shifted by 2 and then provided to wire q.\n",
    "    NOT e -> f means that the bitwise complement of the value from wire e is provided to wire f.\n",
    "\n",
    "Other possible gates include OR (bitwise OR) and RSHIFT (right-shift). If, for some reason, you'd like to emulate the circuit instead, almost all programming languages (for example, C, JavaScript, or Python) provide operators for these gates.\n",
    "\n",
    "For example, here is a simple circuit:\n",
    "\n",
    "123 -> x\n",
    "456 -> y\n",
    "x AND y -> d\n",
    "x OR y -> e\n",
    "x LSHIFT 2 -> f\n",
    "y RSHIFT 2 -> g\n",
    "NOT x -> h\n",
    "NOT y -> i\n",
    "\n",
    "After it is run, these are the signals on the wires:\n",
    "\n",
    "d: 72\n",
    "e: 507\n",
    "f: 492\n",
    "g: 114\n",
    "h: 65412\n",
    "i: 65079\n",
    "x: 123\n",
    "y: 456\n",
    "\n",
    "In little Bobby's kit's instructions booklet (provided as your puzzle input), what signal is ultimately provided to wire a?"
   ]
  },
  {
   "cell_type": "code",
   "execution_count": 49,
   "metadata": {},
   "outputs": [],
   "source": [
    "def read_instructions():\n",
    "    with open('input/day 07.txt') as f:\n",
    "        return [text.strip() for text in f if text.strip()]"
   ]
  },
  {
   "cell_type": "code",
   "execution_count": 50,
   "metadata": {},
   "outputs": [],
   "source": [
    "# function for evaluating wire output\n",
    "def return_value(v):\n",
    "    return int(get_value(v))\n",
    "\n",
    "\n",
    "def return_unary(v):\n",
    "    command, value = v.split(' ')\n",
    "    unary_opcodes = {'NOT': lambda x: 65535 - int(get_value(value))}\n",
    "    return unary_opcodes[command](value)\n",
    "\n",
    "\n",
    "def return_binary(v):\n",
    "    value1, command, value2 = v.split(' ')\n",
    "    binary_opcodes = {'OR': lambda x,y: x|y, 'AND': lambda x,y: x&y, 'LSHIFT': lambda x,y: x<<y, 'RSHIFT': lambda x,y: x>>y}\n",
    "    return binary_opcodes[command](int(get_value(value1)), int(get_value(value2)))\n",
    "\n",
    "\n",
    "def get_value(w):\n",
    "    if w.isnumeric():\n",
    "        return w\n",
    "    else:\n",
    "        process = {0: return_value, 1: return_unary, 2: return_binary}\n",
    "        spaces, code = wires[w].count(' '), wires[w]\n",
    "        value = process[spaces](code)\n",
    "        wires[w] = str(value)\n",
    "        return wires[w]"
   ]
  },
  {
   "cell_type": "code",
   "execution_count": 52,
   "metadata": {},
   "outputs": [
    {
     "name": "stdout",
     "output_type": "stream",
     "text": [
      "Part 1: 46065\n"
     ]
    }
   ],
   "source": [
    "# part 1\n",
    "wires = {}\n",
    "for cmd in instructions:\n",
    "    code, wire = cmd.split(' -> ')\n",
    "    wires[wire] = code\n",
    "    \n",
    "# read the value from a wire.\n",
    "# if it's a string, evaluate it\n",
    "value = get_value('a')\n",
    "print('Part 1:', value)"
   ]
  },
  {
   "cell_type": "markdown",
   "metadata": {},
   "source": [
    "## Part 2\n",
    "\n"
   ]
  },
  {
   "cell_type": "code",
   "execution_count": null,
   "metadata": {},
   "outputs": [],
   "source": []
  }
 ],
 "metadata": {
  "kernelspec": {
   "display_name": "Python 3",
   "language": "python",
   "name": "python3"
  },
  "language_info": {
   "codemirror_mode": {
    "name": "ipython",
    "version": 3
   },
   "file_extension": ".py",
   "mimetype": "text/x-python",
   "name": "python",
   "nbconvert_exporter": "python",
   "pygments_lexer": "ipython3",
   "version": "3.9.0"
  }
 },
 "nbformat": 4,
 "nbformat_minor": 4
}
