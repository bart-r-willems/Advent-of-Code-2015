{
 "cells": [
  {
   "cell_type": "markdown",
   "metadata": {},
   "source": [
    "# Day 1\n",
    "\n",
    "[Not Quite Lisp](https://adventofcode.com/2015/day/1)\n",
    "\n",
    "Santa was hoping for a white Christmas, but his weather machine's \"snow\" function is powered by stars, and he's fresh out! To save Christmas, he needs you to collect fifty stars by December 25th.\n",
    "\n",
    "Collect stars by helping Santa solve puzzles. Two puzzles will be made available on each day in the Advent calendar; the second puzzle is unlocked when you complete the first. Each puzzle grants one star. Good luck!"
   ]
  },
  {
   "cell_type": "markdown",
   "metadata": {},
   "source": [
    "## Part 1\n",
    "\n",
    "Santa is trying to deliver presents in a large apartment building, but he can't find the right floor - the directions he got are a little confusing. He starts on the ground floor (floor 0) and then follows the instructions one character at a time.\n",
    "\n",
    "An opening parenthesis, (, means he should go up one floor, and a closing parenthesis, ), means he should go down one floor.\n",
    "\n",
    "The apartment building is very tall, and the basement is very deep; he will never find the top or bottom floors.\n",
    "\n",
    "For example:\n",
    "\n",
    "    (()) and ()() both result in floor 0.\n",
    "    ((( and (()(()( both result in floor 3.\n",
    "    ))((((( also results in floor 3.\n",
    "    ()) and ))( both result in floor -1 (the first basement level).\n",
    "    ))) and )())()) both result in floor -3.\n",
    "\n",
    "To what floor do the instructions take Santa?"
   ]
  },
  {
   "cell_type": "code",
   "execution_count": 2,
   "metadata": {},
   "outputs": [
    {
     "name": "stdout",
     "output_type": "stream",
     "text": [
      "74\n"
     ]
    }
   ],
   "source": [
    "UP = '('\n",
    "DOWN = ')'\n",
    "instructions = open('input/day 01.txt', 'r').read()\n",
    "print(instructions.count(UP) - instructions.count(DOWN))"
   ]
  },
  {
   "cell_type": "markdown",
   "metadata": {},
   "source": [
    "## Part 2\n",
    "\n",
    "Now, given the same instructions, find the position of the first character that causes him to enter the basement (floor -1). The first character in the instructions has position 1, the second character has position 2, and so on."
   ]
  },
  {
   "cell_type": "code",
   "execution_count": 3,
   "metadata": {},
   "outputs": [
    {
     "name": "stdout",
     "output_type": "stream",
     "text": [
      "1795\n"
     ]
    }
   ],
   "source": [
    "for i in range(len(instructions)):\n",
    "    if instructions[:i].count(UP) - instructions[:i].count(DOWN) == -1:\n",
    "        print(i)\n",
    "        break"
   ]
  },
  {
   "cell_type": "code",
   "execution_count": null,
   "metadata": {},
   "outputs": [],
   "source": []
  }
 ],
 "metadata": {
  "kernelspec": {
   "display_name": "Python 3",
   "language": "python",
   "name": "python3"
  },
  "language_info": {
   "codemirror_mode": {
    "name": "ipython",
    "version": 3
   },
   "file_extension": ".py",
   "mimetype": "text/x-python",
   "name": "python",
   "nbconvert_exporter": "python",
   "pygments_lexer": "ipython3",
   "version": "3.9.0"
  }
 },
 "nbformat": 4,
 "nbformat_minor": 4
}
